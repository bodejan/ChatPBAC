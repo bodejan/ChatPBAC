{
 "cells": [
  {
   "cell_type": "markdown",
   "metadata": {},
   "source": [
    "# Evaluation"
   ]
  },
  {
   "cell_type": "markdown",
   "metadata": {},
   "source": [
    "## Test Data"
   ]
  },
  {
   "cell_type": "code",
   "execution_count": 28,
   "metadata": {},
   "outputs": [],
   "source": [
    "test = [\n",
    "    {\"input\": \"Show me the most common diagnosis category for patients aged 65 and above.\"},\n",
    "    {\"input\": \"Find all medical records from the year 2022.\"},\n",
    "    {\"input\": \"List all consulting physicians who treated patients for cancer.\"},\n",
    "    {\"input\": \"Retrieve all patient records with the insurance provider 'Medicare'.\"},\n",
    "    {\"input\": \"How many patients were treated for respiratory system issues?\"},\n",
    "    {\"input\": \"Get the treatment sub-categories for patients diagnosed with 'Back Pain'.\"},\n",
    "    {\"input\": \"Provide a list of patients who received 'Mental Health' treatments.\"},\n",
    "    {\"input\": \"What is the most frequent determination for 'Orthopedic Procedures'?\"},\n",
    "    {\"input\": \"How many patients in the 41 to 50 age range were treated for trauma or injuries?\"},\n",
    "    {\"input\": \"Show all entries where the treatment type was 'Urgent Care'.\"},\n",
    "    {\"input\": \"Retrieve all patient records diagnosed with 'Osteoarthritis'.\"},\n",
    "    {\"input\": \"Show me the patient names who received 'Cancer Care' treatments.\"},\n",
    "    {\"input\": \"List the insurance providers for patients treated for 'Cardiac/Circ Problems'.\"},\n",
    "    {\"input\": \"How many male patients have been treated for 'Endocrine/Metabolic' disorders?\"},\n",
    "    {\"input\": \"What is the most common treatment category for patients aged 21 to 30?\"},\n",
    "    {\"input\": \"Retrieve data for patients whose consulting physician was 'Dr. Michelle Lamb'.\"},\n",
    "    {\"input\": \"Show me all patient records where the determination was 'Overturned Decision of Health Plan'.\"},\n",
    "    {\"input\": \"List all patients treated for 'Autism Spectrum' disorders in 2021.\"},\n",
    "    {\"input\": \"Find the number of patients who received 'Rehab/ Svc - Outpt' treatments.\"},\n",
    "    {\"input\": \"Show all treatment sub-categories for the 'GU/ Kidney Disorder' diagnosis category.\"},\n",
    "    {\"input\": \"How many records are there for patients with the blood type 'A-'?\"},\n",
    "    {\"input\": \"Give me the diagnosis categories for patients aged 0 to 10.\"},\n",
    "    {\"input\": \"Retrieve all records of patients who were treated with 'Chiropractic Care'.\"},\n",
    "    {\"input\": \"List the patients who were diagnosed with 'Hepatitis' and received 'Pharmacy' treatment.\"},\n",
    "    {\"input\": \"Show the data for all patients whose treatment type was 'Experimental/Investigational'.\"},\n",
    "    {\"input\": \"Provide a count of patients diagnosed with 'Mental Disorder' and treated in 2023.\"},\n",
    "    {\"input\": \"Find all patients with the blood type 'O+' who were treated for 'Digestive System/ GI' problems.\"},\n",
    "    {\"input\": \"What is the most common consulting physician for patients receiving 'Emergency/Urg Care'?\"},\n",
    "    {\"input\": \"List all patients with 'AB-' blood type who were treated for 'Cancer'.\"},\n",
    "    {\"input\": \"Show me the sub-categories of treatments for patients with 'Orth/Musculoskeletal' diagnoses.\"},\n",
    "    {\"input\": \"Retrieve all patient records for those who received 'Rehab/Svcs SNF Inpt' treatments.\"},\n",
    "    {\"input\": \"What is the most common diagnosis sub-category for patients treated by 'Dr. Eddie Young'?\"},\n",
    "    {\"input\": \"List the insurance providers for patients diagnosed with 'Infectious Disease'.\"},\n",
    "    {\"input\": \"How many patients in the '51 to 64' age range were diagnosed with 'Cancer'?\"},\n",
    "    {\"input\": \"Show all records where the treatment category is 'Pharmacy'.\"},\n",
    "    {\"input\": \"Provide all patient records from 2020 where the treatment type was 'Medical Necessity'.\"},\n",
    "    {\"input\": \"How many patients have received 'Pain Management' treatment for 'Chronic Pain Syndrome'?\"},\n",
    "    {\"input\": \"List all patients treated by 'Dr. Shelly Hunt' in 2023.\"},\n",
    "    {\"input\": \"Retrieve all patient records where the treatment was classified as 'Elect/Therm/Radfreq'.\"},\n",
    "    {\"input\": \"What is the most common blood type among patients diagnosed with 'Mental Disorder'?\"},\n",
    "    {\"input\": \"Show me the names of patients treated with 'Vision Services'.\"},\n",
    "    {\"input\": \"How many patients with the blood type 'B+' were treated in 2022?\"},\n",
    "    {\"input\": \"Find all records for patients diagnosed with 'Morbid Obesity'.\"},\n",
    "    {\"input\": \"Retrieve the data for patients diagnosed with 'Orth/Musculoskeletal' who received 'Orthopedic Procedures'.\"},\n",
    "    {\"input\": \"What is the most common treatment category for patients with 'Trauma/Injuries' diagnoses?\"},\n",
    "    {\"input\": \"Show me all records for patients treated for 'Foot Disorders'.\"},\n",
    "    {\"input\": \"How many patients received 'Gen Surg Proc' treatments in 2021?\"},\n",
    "    {\"input\": \"List all patients treated for 'Prevention/Good Health' in 2024.\"},\n",
    "    {\"input\": \"Show all records where the consulting physician was 'Dr. Alexandria Gaines'.\"},\n",
    "    {\"input\": \"Retrieve all patient records where the diagnosis sub-category was 'Osteoarthritis' and treatment category was 'Alternative Tx'.\"},\n",
    "    {\"input\": \"Show me all patient records where the diagnosis category was 'Blood Related Disord'.\"},\n",
    "    {\"input\": \"List all patients treated for 'Post Surgical Comp' in 2022.\"},\n",
    "    {\"input\": \"How many patients were diagnosed with 'Skin Disorders' in 2023?\"},\n",
    "    {\"input\": \"Retrieve the records of patients who received 'Special Proc' treatments for 'Respiratory System' issues.\"},\n",
    "    {\"input\": \"What is the most common diagnosis sub-category for female patients aged 31 to 40?\"},\n",
    "    {\"input\": \"Show me all records where the determination was 'Upheld Decision of Health Plan' for 'Cancer Care' treatments.\"},\n",
    "    {\"input\": \"How many patients diagnosed with 'Autism Spectrum' were treated with 'Speech Therapy'?\"},\n",
    "    {\"input\": \"Provide a list of all patients treated with 'Mental Health' services by 'Dr. James Barber'.\"},\n",
    "    {\"input\": \"Show all patient records where the treatment type was 'Urgent Care' for 'Orth/Musculoskeletal' diagnoses.\"},\n",
    "    {\"input\": \"List the most common diagnosis categories for patients treated by 'Dr. Jerry Daniels'.\"},\n",
    "    {\"input\": \"Retrieve all records where the diagnosis category was 'Dental Problems' and treatment category was 'Dent/Orthodont Proc'.\"},\n",
    "    {\"input\": \"How many patients aged 11 to 20 received treatments for 'Trauma/ Injuries'?\"},\n",
    "    {\"input\": \"Find all records for patients who received 'Urology Proc' treatments in 2020.\"},\n",
    "    {\"input\": \"What is the most common treatment sub-category for patients with 'Ears/Nose/Throat' diagnoses?\"},\n",
    "    {\"input\": \"Show me all patient records where the diagnosis sub-category was 'Back Pain'.\"},\n",
    "    {\"input\": \"List the patients who were diagnosed with 'Vision' problems and treated with 'Ophthalmology Proc'.\"},\n",
    "    {\"input\": \"How many patients in the '65+' age range received 'Home Health Care' services?\"},\n",
    "    {\"input\": \"Retrieve all records for patients diagnosed with 'Pregnancy/Childbirth' and treated with 'Ob-Gyn Proc'.\"},\n",
    "    {\"input\": \"Show me the data for all patients treated with 'Cardio-Vasc Proc' in 2023.\"},\n",
    "    {\"input\": \"What is the most common determination outcome for patients diagnosed with 'Genetic Diseases'?\"},\n",
    "    {\"input\": \"What is the average age of patients diagnosed with 'Cancer' across all years?\"},\n",
    "    {\"input\": \"Find the total number of patients treated with 'Pharmacy' in the past 5 years.\"},\n",
    "    {\"input\": \"What is the distribution of diagnosis categories by age range for 2023?\"},\n",
    "    {\"input\": \"Provide the count of patients by gender for those diagnosed with 'Cardiac/Circ Problems'.\"},\n",
    "    {\"input\": \"What is the most common treatment category for patients diagnosed with 'Digestive System/ GI' problems in 2021?\"},\n",
    "    {\"input\": \"Calculate the total number of patients treated by 'Dr. Alexandria Gaines' in 2023.\"},\n",
    "    {\"input\": \"What is the most frequent diagnosis sub-category for patients aged 51 to 64 over the last 10 years?\"},\n",
    "    {\"input\": \"Show me the number of patients diagnosed with 'Orth/Musculoskeletal' conditions by year.\"},\n",
    "    {\"input\": \"What is the total number of patients diagnosed with 'Autism Spectrum' across all age ranges?\"},\n",
    "    {\"input\": \"Find the most common consulting physician for patients treated for 'Mental Disorder'.\"},\n",
    "    {\"input\": \"What percentage of patients treated for 'Respiratory System' problems were male?\"},\n",
    "    {\"input\": \"Give the average patient age for those treated with 'Rehab/Svcs SNF Inpt' over the past 3 years.\"},\n",
    "    {\"input\": \"Show the total number of patients diagnosed with 'Chronic Pain Syndrome' by treatment category.\"},\n",
    "    {\"input\": \"What is the most common insurance provider for patients aged 41 to 50 treated for 'Cancer'?\"},\n",
    "    {\"input\": \"Calculate the total number of treatments for 'Orthopedic Procedures' by diagnosis sub-category.\"},\n",
    "    {\"input\": \"Provide a breakdown of patient blood types for those treated with 'Emergency/Urg Care'.\"},\n",
    "    {\"input\": \"What is the distribution of patients diagnosed with 'Endocrine/Metabolic' disorders across different age ranges?\"},\n",
    "    {\"input\": \"Find the average patient age for those treated with 'Mental Health' services in 2022.\"},\n",
    "    {\"input\": \"What is the total number of patients diagnosed with 'Skin Disorders' by treatment sub-category?\"},\n",
    "    {\"input\": \"Provide a count of patients treated with 'Gen Surg Proc' for each year between 2018 and 2023.\"},\n",
    "    {\"input\": \"What is the average number of treatments per patient for those diagnosed with 'Trauma/Injuries'?\"},\n",
    "    {\"input\": \"Show the distribution of patients diagnosed with 'Infectious Disease' by year.\"},\n",
    "    {\"input\": \"Find the total number of 'Cancer Care' treatments provided by each consulting physician in 2023.\"},\n",
    "    {\"input\": \"What is the most frequent age range for patients receiving 'Elect/Therm/Radfreq' treatments?\"},\n",
    "    {\"input\": \"Calculate the average patient age for those treated with 'Chiropractic Care' in the past 2 years.\"},\n",
    "    {\"input\": \"Provide the total count of 'Orth/Musculoskeletal' diagnoses broken down by gender.\"},\n",
    "    {\"input\": \"What is the distribution of 'Mental Disorder' diagnoses by insurance provider?\"},\n",
    "    {\"input\": \"Show me the most common treatment sub-category for female patients aged 21 to 30.\"},\n",
    "    {\"input\": \"What is the percentage of patients aged 65+ diagnosed with 'Cardiac/Circ Problems'?\"},\n",
    "    {\"input\": \"Find the most common blood type among patients diagnosed with 'Endocrine/Metabolic' disorders.\"}\n",
    "]"
   ]
  },
  {
   "cell_type": "markdown",
   "metadata": {},
   "source": [
    "## Metrics"
   ]
  },
  {
   "cell_type": "code",
   "execution_count": null,
   "metadata": {},
   "outputs": [],
   "source": [
    "retrieval_decision = None\n",
    "retrieval_decision_input_tokens = None\n",
    "retrieval_decision_output_tokens = None\n",
    "retrieval_decision_time = None\n",
    "\n",
    "nosql_action = None\n",
    "nosql_query = None\n",
    "nosql_limit = None\n",
    "nosql_input_tokens = None\n",
    "nosql_output_tokens = None\n",
    "nosql_time = None\n",
    "\n",
    "nosql_query_pbac = None\n",
    "nosql_query_pbac_verification = None\n",
    "\n",
    "execution_time = None\n",
    "execution_status = None\n",
    "execution_result = None\n",
    "execution_result_pbac = None\n",
    "\n",
    "output = None\n",
    "output_input_tokens = None\n",
    "output_output_tokens = None\n",
    "output_time = None\n"
   ]
  },
  {
   "cell_type": "markdown",
   "metadata": {},
   "source": [
    "## Experiment"
   ]
  },
  {
   "cell_type": "code",
   "execution_count": 40,
   "metadata": {},
   "outputs": [
    {
     "name": "stdout",
     "output_type": "stream",
     "text": [
      "{'input': 'Show me the most common diagnosis category for patients aged 65 and above.'}\n"
     ]
    },
    {
     "ename": "TypeError",
     "evalue": "write_nosql_query_no_pbac() got an unexpected keyword argument 'debug'",
     "output_type": "error",
     "traceback": [
      "\u001b[0;31m---------------------------------------------------------------------------\u001b[0m",
      "\u001b[0;31mTypeError\u001b[0m                                 Traceback (most recent call last)",
      "Cell \u001b[0;32mIn[40], line 13\u001b[0m\n\u001b[1;32m     10\u001b[0m retrieval_decision_output_tokens \u001b[38;5;241m=\u001b[39m response\u001b[38;5;241m.\u001b[39musage_metadata\u001b[38;5;241m.\u001b[39mget(\u001b[38;5;124m\"\u001b[39m\u001b[38;5;124minput_tokens\u001b[39m\u001b[38;5;124m\"\u001b[39m)\n\u001b[1;32m     12\u001b[0m \u001b[38;5;66;03m# nosql llm metrics\u001b[39;00m\n\u001b[0;32m---> 13\u001b[0m action, query, limit, response \u001b[38;5;241m=\u001b[39m \u001b[43mwrite_nosql_query_no_pbac\u001b[49m\u001b[43m(\u001b[49m\u001b[38;5;28;43minput\u001b[39;49m\u001b[43m,\u001b[49m\u001b[43m \u001b[49m\u001b[43mdebug\u001b[49m\u001b[38;5;241;43m=\u001b[39;49m\u001b[38;5;28;43;01mTrue\u001b[39;49;00m\u001b[43m)\u001b[49m\n\u001b[1;32m     14\u001b[0m nosql_action \u001b[38;5;241m=\u001b[39m action\n\u001b[1;32m     15\u001b[0m nosql_query \u001b[38;5;241m=\u001b[39m query\n",
      "\u001b[0;31mTypeError\u001b[0m: write_nosql_query_no_pbac() got an unexpected keyword argument 'debug'"
     ]
    }
   ],
   "source": [
    "from backend.retrieval_decision.llm import decide_retrieval\n",
    "from backend.text2query.llm import write_nosql_query_no_pbac\n",
    "from backend.pbac import re_write_query, verify_query\n",
    "\n",
    "access_purpose = 'Clinical-Care'\n",
    "\n",
    "for i in test:\n",
    "    row = {}\n",
    "    row = {'input': i['input']}\n",
    "\n",
    "    # retrieval decision metrics\n",
    "    row['retrieval_decision'], response = decide_retrieval(i, True)\n",
    "    row['retrieval_decision_input_tokens'] = response.usage_metadata.get(\"input_tokens\")\n",
    "    row['retrieval_decision_output_tokens'] = response.usage_metadata.get(\"input_tokens\")\n",
    "    \n",
    "    # query generation metrics\n",
    "    action, query, limit, response = write_nosql_query_no_pbac(input, debug=True)\n",
    "    row['nosql_action'] = action\n",
    "    row['nosql_query'] = query\n",
    "    row['nosql_limit'] = limit\n",
    "    row['nosql_input_tokens'] = response.usage_metadata.get(\"input_tokens\")\n",
    "    row['nosql_output_tokens'] = response.usage_metadata.get(\"output_tokens\")\n",
    "\n",
    "    # pbac metrics\n",
    "    row['nosql_query_pbac'] = re_write_query(query, action, access_purpose)\n",
    "    row['nosql_query_pbac_verified'] = verify_query(row['nosql_query_pbac'])\n",
    "\n",
    "    # execution metrics\n",
    "    execution_time = None\n",
    "    execution_status = None\n",
    "    execution_result = None\n",
    "    execution_result_pbac = None\n",
    "    \n"
   ]
  },
  {
   "cell_type": "code",
   "execution_count": 31,
   "metadata": {},
   "outputs": [
    {
     "name": "stdout",
     "output_type": "stream",
     "text": [
      "Cost: 0.0077575\n"
     ]
    }
   ],
   "source": [
    "input_t = 2439\n",
    "output_t = 166\n",
    "cost = 2.5 * input_t / 1000000 + 10 * output_t / 1000000\n",
    "print(f\"Cost: {cost}\")"
   ]
  },
  {
   "cell_type": "code",
   "execution_count": 99,
   "metadata": {},
   "outputs": [],
   "source": [
    "def explain_find(db, collection, query, limit):\n",
    "    command = {\n",
    "            \"explain\": {\n",
    "                \"find\": collection,\n",
    "                \"filter\": query,\n",
    "                \"limit\": limit,\n",
    "            },\n",
    "            \"verbosity\": \"executionStats\"\n",
    "        }\n",
    "    \n",
    "    explanation = db.command(command).get(\"executionStats\", None)\n",
    "\n",
    "    executionTimeMillis = explanation.get(\"executionTimeMillis\", None)\n",
    "    totalDocsExamined = explanation.get(\"totalDocsExamined\", None)\n",
    "    totalKeysExamined = explanation.get(\"totalKeysExamined\", None)\n",
    "\n",
    "    return executionTimeMillis, totalDocsExamined, totalKeysExamined\n",
    "\n",
    "def explain_count(db, collection, query):\n",
    "    command = {\n",
    "            \"explain\": {\n",
    "                \"count\": collection,\n",
    "                \"query\": query\n",
    "            },\n",
    "            \"verbosity\": \"executionStats\"\n",
    "        }\n",
    "    \n",
    "    explanation = db.command(command).get(\"executionStats\", None)\n",
    "\n",
    "    executionTimeMillis = explanation.get(\"executionTimeMillis\", None)\n",
    "    totalDocsExamined = explanation.get(\"totalDocsExamined\", None)\n",
    "    totalKeysExamined = explanation.get(\"totalKeysExamined\", None)\n",
    "\n",
    "    return executionTimeMillis, totalDocsExamined, totalKeysExamined\n",
    "\n",
    "def explain_aggregate(db, collection, pipeline):\n",
    "    command = {\n",
    "            \"explain\": {\n",
    "                \"aggregate\": collection,\n",
    "                \"pipeline\": pipeline,\n",
    "                \"cursor\": {},\n",
    "            },\n",
    "            \"verbosity\": \"executionStats\"\n",
    "        }\n",
    "    \n",
    "    stages = db.command(command).get(\"stages\")\n",
    "    \n",
    "    explanation = stages[0].get(\"$cursor\").get(\"executionStats\", None)    \n",
    "    executionTimeMillis = explanation.get(\"executionTimeMillis\", None)\n",
    "    totalDocsExamined = explanation.get(\"totalDocsExamined\", None)\n",
    "    totalKeysExamined = explanation.get(\"totalKeysExamined\", None)\n",
    "\n",
    "    return executionTimeMillis, totalDocsExamined, totalKeysExamined"
   ]
  },
  {
   "cell_type": "code",
   "execution_count": 100,
   "metadata": {},
   "outputs": [
    {
     "name": "stdout",
     "output_type": "stream",
     "text": [
      "(0, 8, 0)\n",
      "(94, 37616, 0)\n",
      "(81, 37616, 0)\n"
     ]
    }
   ],
   "source": [
    "from backend.db import connect\n",
    "import os\n",
    "from pprint import pprint\n",
    "\n",
    "client = connect()\n",
    "db = client.get_database(os.getenv(\"DB_NAME\"))\n",
    "collection = os.getenv(\"DB_COLLECTION\")\n",
    "query = {\"PatientGender\": \"Female\", \"PatientGender_IP\" : \"Research\"}\n",
    "pipeline = [\n",
    "    {\"$match\": {\"AgeRange_IP\": \"Research\"}},\n",
    "    {\"$group\": {\"_id\": \"$AgeRange\", \"count\": {\"$sum\": 1}}},\n",
    "    {\"$sort\": {\"count\": -1}},\n",
    "    {\"$limit\": 1}\n",
    "]\n",
    "\n",
    "print(explain_find(db, collection, query, 3))\n",
    "\n",
    "print(explain_count(db, collection, query))\n",
    "\n",
    "print(explain_aggregate(db, collection, pipeline))\n",
    "\n",
    "\n",
    "\n",
    "\n",
    "                \n",
    "client.close()"
   ]
  },
  {
   "cell_type": "code",
   "execution_count": 17,
   "metadata": {},
   "outputs": [
    {
     "name": "stdout",
     "output_type": "stream",
     "text": [
      "{'ns': 'california_imr_pii_pbac.visits_strings', 'size': 214631985, 'count': 37616, 'avgObjSize': 5705, 'numOrphanDocs': 0, 'storageSize': 58925056, 'freeStorageSize': 1536000, 'capped': False, 'nindexes': 1, 'indexDetails': {'_id_': {'metadata': {'formatVersion': 8}, 'creationString': 'access_pattern_hint=none,allocation_size=4KB,app_metadata=(formatVersion=8),assert=(commit_timestamp=none,durable_timestamp=none,read_timestamp=none,write_timestamp=on),block_allocation=best,block_compressor=,cache_resident=false,checksum=on,colgroups=,collator=,columns=,dictionary=0,encryption=(keyid=,name=),exclusive=false,extractor=,format=btree,huffman_key=,huffman_value=,ignore_in_memory_cache_size=false,immutable=false,import=(compare_timestamp=oldest_timestamp,enabled=false,file_metadata=,metadata_file=,repair=false),internal_item_max=0,internal_key_max=0,internal_key_truncate=true,internal_page_max=16k,key_format=u,key_gap=10,leaf_item_max=0,leaf_key_max=0,leaf_page_max=16k,leaf_value_max=0,log=(enabled=false),lsm=(auto_throttle=true,bloom=true,bloom_bit_count=16,bloom_config=,bloom_hash_count=8,bloom_oldest=false,chunk_count_limit=0,chunk_max=5GB,chunk_size=10MB,merge_custom=(prefix=,start_generation=0,suffix=),merge_max=15,merge_min=0),memory_page_image_max=0,memory_page_max=5MB,os_cache_dirty_max=0,os_cache_max=0,prefix_compression=true,prefix_compression_min=4,source=,split_deepen_min_child=0,split_deepen_per_child=0,split_pct=90,tiered_storage=(auth_token=,bucket=,bucket_prefix=,cache_directory=,local_retention=300,name=,object_target_size=0),type=file,value_format=u,verbose=[write_timestamp],write_timestamp_usage=none', 'type': 'file', 'uri': 'statistics:table:index-108--5858264190195729884', 'LSM': {'bloom filter false positives': 0, 'bloom filter hits': 0, 'bloom filter misses': 0, 'bloom filter pages evicted from cache': 0, 'bloom filter pages read into cache': 0, 'bloom filters in the LSM tree': 0, 'chunks in the LSM tree': 0, 'highest merge generation in the LSM tree': 0, 'queries that could have benefited from a Bloom filter that did not exist': 0, 'sleep for LSM checkpoint throttle': 0, 'sleep for LSM merge throttle': 0, 'total size of bloom filters': 0}, 'autocommit': {'retries for readonly operations': 0, 'retries for update operations': 0}, 'block-manager': {'allocations requiring file extension': 0, 'blocks allocated': 0, 'blocks freed': 0, 'checkpoint size': 1011712, 'file allocation unit size': 4096, 'file bytes available for reuse': 376832, 'file magic number': 120897, 'file major version number': 1, 'file size in bytes': 1404928, 'minor version number': 0}, 'btree': {'btree checkpoint generation': 227, 'btree clean tree checkpoint expiration time': 9223372036854775807, 'btree compact pages reviewed': 0, 'btree compact pages rewritten': 0, 'btree compact pages skipped': 0, 'btree number of pages reconciled during checkpoint': 0, 'btree skipped by compaction as process would not reduce size': 0, 'column-store fixed-size leaf pages': 0, 'column-store fixed-size time windows': 0, 'column-store internal pages': 0, 'column-store variable-size RLE encoded values': 0, 'column-store variable-size deleted values': 0, 'column-store variable-size leaf pages': 0, 'fixed-record size': 0, 'maximum internal page size': 16384, 'maximum leaf page key size': 1474, 'maximum leaf page size': 16384, 'maximum leaf page value size': 7372, 'maximum tree depth': 0, 'number of key/value pairs': 0, 'overflow pages': 0, 'row-store empty values': 0, 'row-store internal pages': 0, 'row-store leaf pages': 0}, 'cache': {'bytes currently in the cache': 6562, 'bytes dirty in the cache cumulative': 0, 'bytes read into cache': 912413, 'bytes written from cache': 0, 'checkpoint blocked page eviction': 0, 'checkpoint of history store file blocked non-history store page eviction': 0, 'data source pages selected for eviction unable to be evicted': 0, 'eviction gave up due to detecting a disk value without a timestamp behind the last update on the chain': 0, 'eviction gave up due to detecting a tombstone without a timestamp ahead of the selected on disk update': 0, 'eviction gave up due to detecting a tombstone without a timestamp ahead of the selected on disk update after validating the update chain': 0, 'eviction gave up due to detecting update chain entries without timestamps after the selected on disk update': 0, 'eviction gave up due to needing to remove a record from the history store but checkpoint is running': 0, 'eviction walk passes of a file': 0, 'eviction walk target pages histogram - 0-9': 0, 'eviction walk target pages histogram - 10-31': 0, 'eviction walk target pages histogram - 128 and higher': 0, 'eviction walk target pages histogram - 32-63': 0, 'eviction walk target pages histogram - 64-128': 0, 'eviction walk target pages reduced due to history store cache pressure': 0, 'eviction walks abandoned': 0, 'eviction walks gave up because they restarted their walk twice': 0, 'eviction walks gave up because they saw too many pages and found no candidates': 0, 'eviction walks gave up because they saw too many pages and found too few candidates': 0, 'eviction walks random search fails to locate a page, results in a null position': 0, 'eviction walks reached end of tree': 0, 'eviction walks restarted': 0, 'eviction walks started from root of tree': 0, 'eviction walks started from saved location in tree': 0, 'hazard pointer blocked page eviction': 0, 'history store table insert calls': 0, 'history store table insert calls that returned restart': 0, 'history store table reads': 0, 'history store table reads missed': 0, 'history store table reads requiring squashed modifies': 0, 'history store table resolved updates without timestamps that lose their durable timestamp': 0, 'history store table truncation by rollback to stable to remove an unstable update': 0, 'history store table truncation by rollback to stable to remove an update': 0, 'history store table truncation to remove all the keys of a btree': 0, 'history store table truncation to remove an update': 0, 'history store table truncation to remove range of updates due to an update without a timestamp on data page': 0, 'history store table truncation to remove range of updates due to key being removed from the data page during reconciliation': 0, 'history store table truncations that would have happened in non-dryrun mode': 0, 'history store table truncations to remove an unstable update that would have happened in non-dryrun mode': 0, 'history store table truncations to remove an update that would have happened in non-dryrun mode': 0, 'history store table updates without timestamps fixed up by reinserting with the fixed timestamp': 0, 'history store table writes requiring squashed modifies': 0, 'in-memory page passed criteria to be split': 0, 'in-memory page splits': 0, 'internal page split blocked its eviction': 0, 'internal pages evicted': 0, 'internal pages split during eviction': 0, 'leaf pages split during eviction': 0, 'locate a random in-mem ref by examining all entries on the root page': 0, 'modified pages evicted': 0, 'overflow keys on a multiblock row-store page blocked its eviction': 0, 'overflow pages read into cache': 0, 'page split during eviction deepened the tree': 0, 'page written requiring history store records': 0, 'pages read into cache': 64, 'pages read into cache after truncate': 0, 'pages read into cache after truncate in prepare state': 0, 'pages requested from the cache': 0, 'pages seen by eviction walk': 0, 'pages written from cache': 0, 'pages written requiring in-memory restoration': 0, 'recent modification of a page blocked its eviction': 0, 'reverse splits performed': 0, 'reverse splits skipped because of VLCS namespace gap restrictions': 0, 'the number of times full update inserted to history store': 0, 'the number of times reverse modify inserted to history store': 0, 'tracked dirty bytes in the cache': 0, 'uncommitted truncate blocked page eviction': 0, 'unmodified pages evicted': 0}, 'cache_walk': {'Average difference between current eviction generation when the page was last considered': 0, 'Average on-disk page image size seen': 0, 'Average time in cache for pages that have been visited by the eviction server': 0, 'Average time in cache for pages that have not been visited by the eviction server': 0, 'Clean pages currently in cache': 0, 'Current eviction generation': 0, 'Dirty pages currently in cache': 0, 'Entries in the root page': 0, 'Internal pages currently in cache': 0, 'Leaf pages currently in cache': 0, 'Maximum difference between current eviction generation when the page was last considered': 0, 'Maximum page size seen': 0, 'Minimum on-disk page image size seen': 0, 'Number of pages never visited by eviction server': 0, 'On-disk page image sizes smaller than a single allocation unit': 0, 'Pages created in memory and never written': 0, 'Pages currently queued for eviction': 0, 'Pages that could not be queued for eviction': 0, 'Refs skipped during cache traversal': 0, 'Size of the root page': 0, 'Total number of pages currently in cache': 0}, 'checkpoint-cleanup': {'pages added for eviction': 0, 'pages removed': 0, 'pages skipped during tree walk': 0, 'pages visited': 0}, 'compression': {'compressed page maximum internal page size prior to compression': 16384, 'compressed page maximum leaf page size prior to compression ': 16384, 'compressed pages read': 0, 'compressed pages written': 0, 'number of blocks with compress ratio greater than 64': 0, 'number of blocks with compress ratio smaller than 16': 0, 'number of blocks with compress ratio smaller than 2': 0, 'number of blocks with compress ratio smaller than 32': 0, 'number of blocks with compress ratio smaller than 4': 0, 'number of blocks with compress ratio smaller than 64': 0, 'number of blocks with compress ratio smaller than 8': 0, 'page written failed to compress': 0, 'page written was too small to compress': 0}, 'cursor': {'Total number of deleted pages skipped during tree walk': 0, 'Total number of entries skipped by cursor next calls': 0, 'Total number of entries skipped by cursor prev calls': 0, 'Total number of entries skipped to position the history store cursor': 0, 'Total number of in-memory deleted pages skipped during tree walk': 0, 'Total number of on-disk deleted pages skipped during tree walk': 0, 'Total number of times a search near has exited due to prefix config': 0, 'Total number of times cursor fails to temporarily release pinned page to encourage eviction of hot or large page': 0, 'Total number of times cursor temporarily releases pinned page to encourage eviction of hot or large page': 0, 'bulk loaded cursor insert calls': 0, 'cache cursors reuse count': 0, 'close calls that result in cache': 0, 'create calls': 0, 'cursor bound calls that return an error': 0, 'cursor bounds cleared from reset': 0, 'cursor bounds comparisons performed': 0, 'cursor bounds next called on an unpositioned cursor': 0, 'cursor bounds next early exit': 0, 'cursor bounds prev called on an unpositioned cursor': 0, 'cursor bounds prev early exit': 0, 'cursor bounds search early exit': 0, 'cursor bounds search near call repositioned cursor': 0, 'cursor cache calls that return an error': 0, 'cursor close calls that return an error': 0, 'cursor compare calls that return an error': 0, 'cursor equals calls that return an error': 0, 'cursor get key calls that return an error': 0, 'cursor get value calls that return an error': 0, 'cursor insert calls that return an error': 0, 'cursor insert check calls that return an error': 0, 'cursor largest key calls that return an error': 0, 'cursor modify calls that return an error': 0, 'cursor next calls that return an error': 0, 'cursor next calls that skip due to a globally visible history store tombstone': 0, 'cursor next calls that skip greater than 1 and fewer than 100 entries': 0, 'cursor next calls that skip greater than or equal to 100 entries': 0, 'cursor next random calls that return an error': 0, 'cursor prev calls that return an error': 0, 'cursor prev calls that skip due to a globally visible history store tombstone': 0, 'cursor prev calls that skip greater than or equal to 100 entries': 0, 'cursor prev calls that skip less than 100 entries': 0, 'cursor reconfigure calls that return an error': 0, 'cursor remove calls that return an error': 0, 'cursor reopen calls that return an error': 0, 'cursor reserve calls that return an error': 0, 'cursor reset calls that return an error': 0, 'cursor search calls that return an error': 0, 'cursor search near calls that return an error': 0, 'cursor update calls that return an error': 0, 'insert calls': 0, 'insert key and value bytes': 0, 'modify': 0, 'modify key and value bytes affected': 0, 'modify value bytes modified': 0, 'next calls': 0, 'open cursor count': 0, 'operation restarted': 0, 'prev calls': 0, 'remove calls': 0, 'remove key bytes removed': 0, 'reserve calls': 0, 'reset calls': 0, 'search calls': 0, 'search history store calls': 0, 'search near calls': 0, 'truncate calls': 0, 'update calls': 0, 'update key and value bytes': 0, 'update value size change': 0}, 'reconciliation': {'VLCS pages explicitly reconciled as empty': 0, 'approximate byte size of timestamps in pages written': 0, 'approximate byte size of transaction IDs in pages written': 0, 'dictionary matches': 0, 'fast-path pages deleted': 0, 'internal page key bytes discarded using suffix compression': 0, 'internal page multi-block writes': 0, 'leaf page key bytes discarded using prefix compression': 0, 'leaf page multi-block writes': 0, 'leaf-page overflow keys': 0, 'maximum blocks required for a page': 0, 'overflow values written': 0, 'page reconciliation calls': 0, 'page reconciliation calls for eviction': 0, 'pages deleted': 0, 'pages written including an aggregated newest start durable timestamp ': 0, 'pages written including an aggregated newest stop durable timestamp ': 0, 'pages written including an aggregated newest stop timestamp ': 0, 'pages written including an aggregated newest stop transaction ID': 0, 'pages written including an aggregated newest transaction ID ': 0, 'pages written including an aggregated oldest start timestamp ': 0, 'pages written including an aggregated prepare': 0, 'pages written including at least one prepare': 0, 'pages written including at least one start durable timestamp': 0, 'pages written including at least one start timestamp': 0, 'pages written including at least one start transaction ID': 0, 'pages written including at least one stop durable timestamp': 0, 'pages written including at least one stop timestamp': 0, 'pages written including at least one stop transaction ID': 0, 'records written including a prepare': 0, 'records written including a start durable timestamp': 0, 'records written including a start timestamp': 0, 'records written including a start transaction ID': 0, 'records written including a stop durable timestamp': 0, 'records written including a stop timestamp': 0, 'records written including a stop transaction ID': 0}, 'session': {'object compaction': 0}, 'transaction': {'a reader raced with a prepared transaction commit and skipped an update or updates': 0, 'checkpoint has acquired a snapshot for its transaction': 0, 'number of times overflow removed value is read': 0, 'race to read prepared update retry': 0, 'rollback to stable history store keys that would have been swept in non-dryrun mode': 0, 'rollback to stable history store records with stop timestamps older than newer records': 0, 'rollback to stable inconsistent checkpoint': 0, 'rollback to stable keys removed': 0, 'rollback to stable keys restored': 0, 'rollback to stable keys that would have been removed in non-dryrun mode': 0, 'rollback to stable keys that would have been restored in non-dryrun mode': 0, 'rollback to stable restored tombstones from history store': 0, 'rollback to stable restored updates from history store': 0, 'rollback to stable skipping delete rle': 0, 'rollback to stable skipping stable rle': 0, 'rollback to stable sweeping history store keys': 0, 'rollback to stable tombstones from history store that would have been restored in non-dryrun mode': 0, 'rollback to stable updates from history store that would have been restored in non-dryrun mode': 0, 'rollback to stable updates removed from history store': 0, 'rollback to stable updates that would have been removed from history store in non-dryrun mode': 0, 'transaction checkpoints due to obsolete pages': 0, 'update conflicts': 0}}}, 'indexBuilds': [], 'totalIndexSize': 1404928, 'indexSizes': {'_id_': 1404928}, 'totalSize': 60329984, 'scaleFactor': 1, 'ok': 1.0, '$clusterTime': {'clusterTime': Timestamp(1726486588, 51), 'signature': {'hash': b'z\\x10\\xd1\\x18\\x8eB\\x1b\\xb2\\x98\\xc2H9\\xe3<\\xcd:\\x9d\\xab\\x98`', 'keyId': 7376309071898476564}}, 'operationTime': Timestamp(1726486588, 51)}\n",
      "{'ns': 'california_imr_pii_pbac.visits_bits', 'size': 123079779, 'count': 37616, 'avgObjSize': 3272, 'numOrphanDocs': 0, 'storageSize': 52379648, 'freeStorageSize': 2650112, 'capped': False, 'nindexes': 1, 'indexDetails': {'_id_': {'metadata': {'formatVersion': 8}, 'creationString': 'access_pattern_hint=none,allocation_size=4KB,app_metadata=(formatVersion=8),assert=(commit_timestamp=none,durable_timestamp=none,read_timestamp=none,write_timestamp=on),block_allocation=best,block_compressor=,cache_resident=false,checksum=on,colgroups=,collator=,columns=,dictionary=0,encryption=(keyid=,name=),exclusive=false,extractor=,format=btree,huffman_key=,huffman_value=,ignore_in_memory_cache_size=false,immutable=false,import=(compare_timestamp=oldest_timestamp,enabled=false,file_metadata=,metadata_file=,repair=false),internal_item_max=0,internal_key_max=0,internal_key_truncate=true,internal_page_max=16k,key_format=u,key_gap=10,leaf_item_max=0,leaf_key_max=0,leaf_page_max=16k,leaf_value_max=0,log=(enabled=false),lsm=(auto_throttle=true,bloom=true,bloom_bit_count=16,bloom_config=,bloom_hash_count=8,bloom_oldest=false,chunk_count_limit=0,chunk_max=5GB,chunk_size=10MB,merge_custom=(prefix=,start_generation=0,suffix=),merge_max=15,merge_min=0),memory_page_image_max=0,memory_page_max=5MB,os_cache_dirty_max=0,os_cache_max=0,prefix_compression=true,prefix_compression_min=4,source=,split_deepen_min_child=0,split_deepen_per_child=0,split_pct=90,tiered_storage=(auth_token=,bucket=,bucket_prefix=,cache_directory=,local_retention=300,name=,object_target_size=0),type=file,value_format=u,verbose=[write_timestamp],write_timestamp_usage=none', 'type': 'file', 'uri': 'statistics:table:index-663--3024660120504524389', 'LSM': {'bloom filter false positives': 0, 'bloom filter hits': 0, 'bloom filter misses': 0, 'bloom filter pages evicted from cache': 0, 'bloom filter pages read into cache': 0, 'bloom filters in the LSM tree': 0, 'chunks in the LSM tree': 0, 'highest merge generation in the LSM tree': 0, 'queries that could have benefited from a Bloom filter that did not exist': 0, 'sleep for LSM checkpoint throttle': 0, 'sleep for LSM merge throttle': 0, 'total size of bloom filters': 0}, 'autocommit': {'retries for readonly operations': 0, 'retries for update operations': 0}, 'block-manager': {'allocations requiring file extension': 0, 'blocks allocated': 0, 'blocks freed': 0, 'checkpoint size': 1028096, 'file allocation unit size': 4096, 'file bytes available for reuse': 516096, 'file magic number': 120897, 'file major version number': 1, 'file size in bytes': 1560576, 'minor version number': 0}, 'btree': {'btree checkpoint generation': 227, 'btree clean tree checkpoint expiration time': 9223372036854775807, 'btree compact pages reviewed': 0, 'btree compact pages rewritten': 0, 'btree compact pages skipped': 0, 'btree number of pages reconciled during checkpoint': 0, 'btree skipped by compaction as process would not reduce size': 0, 'column-store fixed-size leaf pages': 0, 'column-store fixed-size time windows': 0, 'column-store internal pages': 0, 'column-store variable-size RLE encoded values': 0, 'column-store variable-size deleted values': 0, 'column-store variable-size leaf pages': 0, 'fixed-record size': 0, 'maximum internal page size': 16384, 'maximum leaf page key size': 1474, 'maximum leaf page size': 16384, 'maximum leaf page value size': 7372, 'maximum tree depth': 0, 'number of key/value pairs': 0, 'overflow pages': 0, 'row-store empty values': 0, 'row-store internal pages': 0, 'row-store leaf pages': 0}, 'cache': {'bytes currently in the cache': 6672, 'bytes dirty in the cache cumulative': 0, 'bytes read into cache': 926176, 'bytes written from cache': 0, 'checkpoint blocked page eviction': 0, 'checkpoint of history store file blocked non-history store page eviction': 0, 'data source pages selected for eviction unable to be evicted': 0, 'eviction gave up due to detecting a disk value without a timestamp behind the last update on the chain': 0, 'eviction gave up due to detecting a tombstone without a timestamp ahead of the selected on disk update': 0, 'eviction gave up due to detecting a tombstone without a timestamp ahead of the selected on disk update after validating the update chain': 0, 'eviction gave up due to detecting update chain entries without timestamps after the selected on disk update': 0, 'eviction gave up due to needing to remove a record from the history store but checkpoint is running': 0, 'eviction walk passes of a file': 0, 'eviction walk target pages histogram - 0-9': 0, 'eviction walk target pages histogram - 10-31': 0, 'eviction walk target pages histogram - 128 and higher': 0, 'eviction walk target pages histogram - 32-63': 0, 'eviction walk target pages histogram - 64-128': 0, 'eviction walk target pages reduced due to history store cache pressure': 0, 'eviction walks abandoned': 0, 'eviction walks gave up because they restarted their walk twice': 0, 'eviction walks gave up because they saw too many pages and found no candidates': 0, 'eviction walks gave up because they saw too many pages and found too few candidates': 0, 'eviction walks random search fails to locate a page, results in a null position': 0, 'eviction walks reached end of tree': 0, 'eviction walks restarted': 0, 'eviction walks started from root of tree': 0, 'eviction walks started from saved location in tree': 0, 'hazard pointer blocked page eviction': 0, 'history store table insert calls': 0, 'history store table insert calls that returned restart': 0, 'history store table reads': 0, 'history store table reads missed': 0, 'history store table reads requiring squashed modifies': 0, 'history store table resolved updates without timestamps that lose their durable timestamp': 0, 'history store table truncation by rollback to stable to remove an unstable update': 0, 'history store table truncation by rollback to stable to remove an update': 0, 'history store table truncation to remove all the keys of a btree': 0, 'history store table truncation to remove an update': 0, 'history store table truncation to remove range of updates due to an update without a timestamp on data page': 0, 'history store table truncation to remove range of updates due to key being removed from the data page during reconciliation': 0, 'history store table truncations that would have happened in non-dryrun mode': 0, 'history store table truncations to remove an unstable update that would have happened in non-dryrun mode': 0, 'history store table truncations to remove an update that would have happened in non-dryrun mode': 0, 'history store table updates without timestamps fixed up by reinserting with the fixed timestamp': 0, 'history store table writes requiring squashed modifies': 0, 'in-memory page passed criteria to be split': 0, 'in-memory page splits': 0, 'internal page split blocked its eviction': 0, 'internal pages evicted': 0, 'internal pages split during eviction': 0, 'leaf pages split during eviction': 0, 'locate a random in-mem ref by examining all entries on the root page': 0, 'modified pages evicted': 0, 'overflow keys on a multiblock row-store page blocked its eviction': 0, 'overflow pages read into cache': 0, 'page split during eviction deepened the tree': 0, 'page written requiring history store records': 0, 'pages read into cache': 65, 'pages read into cache after truncate': 0, 'pages read into cache after truncate in prepare state': 0, 'pages requested from the cache': 0, 'pages seen by eviction walk': 0, 'pages written from cache': 0, 'pages written requiring in-memory restoration': 0, 'recent modification of a page blocked its eviction': 0, 'reverse splits performed': 0, 'reverse splits skipped because of VLCS namespace gap restrictions': 0, 'the number of times full update inserted to history store': 0, 'the number of times reverse modify inserted to history store': 0, 'tracked dirty bytes in the cache': 0, 'uncommitted truncate blocked page eviction': 0, 'unmodified pages evicted': 0}, 'cache_walk': {'Average difference between current eviction generation when the page was last considered': 0, 'Average on-disk page image size seen': 0, 'Average time in cache for pages that have been visited by the eviction server': 0, 'Average time in cache for pages that have not been visited by the eviction server': 0, 'Clean pages currently in cache': 0, 'Current eviction generation': 0, 'Dirty pages currently in cache': 0, 'Entries in the root page': 0, 'Internal pages currently in cache': 0, 'Leaf pages currently in cache': 0, 'Maximum difference between current eviction generation when the page was last considered': 0, 'Maximum page size seen': 0, 'Minimum on-disk page image size seen': 0, 'Number of pages never visited by eviction server': 0, 'On-disk page image sizes smaller than a single allocation unit': 0, 'Pages created in memory and never written': 0, 'Pages currently queued for eviction': 0, 'Pages that could not be queued for eviction': 0, 'Refs skipped during cache traversal': 0, 'Size of the root page': 0, 'Total number of pages currently in cache': 0}, 'checkpoint-cleanup': {'pages added for eviction': 0, 'pages removed': 0, 'pages skipped during tree walk': 0, 'pages visited': 0}, 'compression': {'compressed page maximum internal page size prior to compression': 16384, 'compressed page maximum leaf page size prior to compression ': 16384, 'compressed pages read': 0, 'compressed pages written': 0, 'number of blocks with compress ratio greater than 64': 0, 'number of blocks with compress ratio smaller than 16': 0, 'number of blocks with compress ratio smaller than 2': 0, 'number of blocks with compress ratio smaller than 32': 0, 'number of blocks with compress ratio smaller than 4': 0, 'number of blocks with compress ratio smaller than 64': 0, 'number of blocks with compress ratio smaller than 8': 0, 'page written failed to compress': 0, 'page written was too small to compress': 0}, 'cursor': {'Total number of deleted pages skipped during tree walk': 0, 'Total number of entries skipped by cursor next calls': 0, 'Total number of entries skipped by cursor prev calls': 0, 'Total number of entries skipped to position the history store cursor': 0, 'Total number of in-memory deleted pages skipped during tree walk': 0, 'Total number of on-disk deleted pages skipped during tree walk': 0, 'Total number of times a search near has exited due to prefix config': 0, 'Total number of times cursor fails to temporarily release pinned page to encourage eviction of hot or large page': 0, 'Total number of times cursor temporarily releases pinned page to encourage eviction of hot or large page': 0, 'bulk loaded cursor insert calls': 0, 'cache cursors reuse count': 0, 'close calls that result in cache': 0, 'create calls': 0, 'cursor bound calls that return an error': 0, 'cursor bounds cleared from reset': 0, 'cursor bounds comparisons performed': 0, 'cursor bounds next called on an unpositioned cursor': 0, 'cursor bounds next early exit': 0, 'cursor bounds prev called on an unpositioned cursor': 0, 'cursor bounds prev early exit': 0, 'cursor bounds search early exit': 0, 'cursor bounds search near call repositioned cursor': 0, 'cursor cache calls that return an error': 0, 'cursor close calls that return an error': 0, 'cursor compare calls that return an error': 0, 'cursor equals calls that return an error': 0, 'cursor get key calls that return an error': 0, 'cursor get value calls that return an error': 0, 'cursor insert calls that return an error': 0, 'cursor insert check calls that return an error': 0, 'cursor largest key calls that return an error': 0, 'cursor modify calls that return an error': 0, 'cursor next calls that return an error': 0, 'cursor next calls that skip due to a globally visible history store tombstone': 0, 'cursor next calls that skip greater than 1 and fewer than 100 entries': 0, 'cursor next calls that skip greater than or equal to 100 entries': 0, 'cursor next random calls that return an error': 0, 'cursor prev calls that return an error': 0, 'cursor prev calls that skip due to a globally visible history store tombstone': 0, 'cursor prev calls that skip greater than or equal to 100 entries': 0, 'cursor prev calls that skip less than 100 entries': 0, 'cursor reconfigure calls that return an error': 0, 'cursor remove calls that return an error': 0, 'cursor reopen calls that return an error': 0, 'cursor reserve calls that return an error': 0, 'cursor reset calls that return an error': 0, 'cursor search calls that return an error': 0, 'cursor search near calls that return an error': 0, 'cursor update calls that return an error': 0, 'insert calls': 0, 'insert key and value bytes': 0, 'modify': 0, 'modify key and value bytes affected': 0, 'modify value bytes modified': 0, 'next calls': 0, 'open cursor count': 0, 'operation restarted': 0, 'prev calls': 0, 'remove calls': 0, 'remove key bytes removed': 0, 'reserve calls': 0, 'reset calls': 0, 'search calls': 0, 'search history store calls': 0, 'search near calls': 0, 'truncate calls': 0, 'update calls': 0, 'update key and value bytes': 0, 'update value size change': 0}, 'reconciliation': {'VLCS pages explicitly reconciled as empty': 0, 'approximate byte size of timestamps in pages written': 0, 'approximate byte size of transaction IDs in pages written': 0, 'dictionary matches': 0, 'fast-path pages deleted': 0, 'internal page key bytes discarded using suffix compression': 0, 'internal page multi-block writes': 0, 'leaf page key bytes discarded using prefix compression': 0, 'leaf page multi-block writes': 0, 'leaf-page overflow keys': 0, 'maximum blocks required for a page': 0, 'overflow values written': 0, 'page reconciliation calls': 0, 'page reconciliation calls for eviction': 0, 'pages deleted': 0, 'pages written including an aggregated newest start durable timestamp ': 0, 'pages written including an aggregated newest stop durable timestamp ': 0, 'pages written including an aggregated newest stop timestamp ': 0, 'pages written including an aggregated newest stop transaction ID': 0, 'pages written including an aggregated newest transaction ID ': 0, 'pages written including an aggregated oldest start timestamp ': 0, 'pages written including an aggregated prepare': 0, 'pages written including at least one prepare': 0, 'pages written including at least one start durable timestamp': 0, 'pages written including at least one start timestamp': 0, 'pages written including at least one start transaction ID': 0, 'pages written including at least one stop durable timestamp': 0, 'pages written including at least one stop timestamp': 0, 'pages written including at least one stop transaction ID': 0, 'records written including a prepare': 0, 'records written including a start durable timestamp': 0, 'records written including a start timestamp': 0, 'records written including a start transaction ID': 0, 'records written including a stop durable timestamp': 0, 'records written including a stop timestamp': 0, 'records written including a stop transaction ID': 0}, 'session': {'object compaction': 0}, 'transaction': {'a reader raced with a prepared transaction commit and skipped an update or updates': 0, 'checkpoint has acquired a snapshot for its transaction': 0, 'number of times overflow removed value is read': 0, 'race to read prepared update retry': 0, 'rollback to stable history store keys that would have been swept in non-dryrun mode': 0, 'rollback to stable history store records with stop timestamps older than newer records': 0, 'rollback to stable inconsistent checkpoint': 0, 'rollback to stable keys removed': 0, 'rollback to stable keys restored': 0, 'rollback to stable keys that would have been removed in non-dryrun mode': 0, 'rollback to stable keys that would have been restored in non-dryrun mode': 0, 'rollback to stable restored tombstones from history store': 0, 'rollback to stable restored updates from history store': 0, 'rollback to stable skipping delete rle': 0, 'rollback to stable skipping stable rle': 0, 'rollback to stable sweeping history store keys': 0, 'rollback to stable tombstones from history store that would have been restored in non-dryrun mode': 0, 'rollback to stable updates from history store that would have been restored in non-dryrun mode': 0, 'rollback to stable updates removed from history store': 0, 'rollback to stable updates that would have been removed from history store in non-dryrun mode': 0, 'transaction checkpoints due to obsolete pages': 0, 'update conflicts': 0}}}, 'indexBuilds': [], 'totalIndexSize': 1560576, 'indexSizes': {'_id_': 1560576}, 'totalSize': 53940224, 'scaleFactor': 1, 'ok': 1.0, '$clusterTime': {'clusterTime': Timestamp(1726486589, 7), 'signature': {'hash': b'\\xa6io\\xa2\\x01\\xb2\\xf7\\xf2TV3\\xba#\\x9a;\\x0c2\\xd0\\x9e\\xd2', 'keyId': 7376309071898476564}}, 'operationTime': Timestamp(1726486589, 7)}\n",
      "{'ns': 'california_imr_pii_pbac.visits', 'size': 93588835, 'count': 37616, 'avgObjSize': 2488, 'numOrphanDocs': 0, 'storageSize': 46383104, 'freeStorageSize': 3514368, 'capped': False, 'nindexes': 1, 'indexDetails': {'_id_': {'metadata': {'formatVersion': 8}, 'creationString': 'access_pattern_hint=none,allocation_size=4KB,app_metadata=(formatVersion=8),assert=(commit_timestamp=none,durable_timestamp=none,read_timestamp=none,write_timestamp=on),block_allocation=best,block_compressor=,cache_resident=false,checksum=on,colgroups=,collator=,columns=,dictionary=0,encryption=(keyid=,name=),exclusive=false,extractor=,format=btree,huffman_key=,huffman_value=,ignore_in_memory_cache_size=false,immutable=false,import=(compare_timestamp=oldest_timestamp,enabled=false,file_metadata=,metadata_file=,repair=false),internal_item_max=0,internal_key_max=0,internal_key_truncate=true,internal_page_max=16k,key_format=u,key_gap=10,leaf_item_max=0,leaf_key_max=0,leaf_page_max=16k,leaf_value_max=0,log=(enabled=false),lsm=(auto_throttle=true,bloom=true,bloom_bit_count=16,bloom_config=,bloom_hash_count=8,bloom_oldest=false,chunk_count_limit=0,chunk_max=5GB,chunk_size=10MB,merge_custom=(prefix=,start_generation=0,suffix=),merge_max=15,merge_min=0),memory_page_image_max=0,memory_page_max=5MB,os_cache_dirty_max=0,os_cache_max=0,prefix_compression=true,prefix_compression_min=4,source=,split_deepen_min_child=0,split_deepen_per_child=0,split_pct=90,tiered_storage=(auth_token=,bucket=,bucket_prefix=,cache_directory=,local_retention=300,name=,object_target_size=0),type=file,value_format=u,verbose=[write_timestamp],write_timestamp_usage=none', 'type': 'file', 'uri': 'statistics:table:index-795--4665745761380188691', 'LSM': {'bloom filter false positives': 0, 'bloom filter hits': 0, 'bloom filter misses': 0, 'bloom filter pages evicted from cache': 0, 'bloom filter pages read into cache': 0, 'bloom filters in the LSM tree': 0, 'chunks in the LSM tree': 0, 'highest merge generation in the LSM tree': 0, 'queries that could have benefited from a Bloom filter that did not exist': 0, 'sleep for LSM checkpoint throttle': 0, 'sleep for LSM merge throttle': 0, 'total size of bloom filters': 0}, 'autocommit': {'retries for readonly operations': 0, 'retries for update operations': 0}, 'block-manager': {'allocations requiring file extension': 0, 'blocks allocated': 0, 'blocks freed': 0, 'checkpoint size': 1073152, 'file allocation unit size': 4096, 'file bytes available for reuse': 1011712, 'file magic number': 120897, 'file major version number': 1, 'file size in bytes': 2101248, 'minor version number': 0}, 'btree': {'btree checkpoint generation': 227, 'btree clean tree checkpoint expiration time': 9223372036854775807, 'btree compact pages reviewed': 0, 'btree compact pages rewritten': 0, 'btree compact pages skipped': 0, 'btree number of pages reconciled during checkpoint': 0, 'btree skipped by compaction as process would not reduce size': 0, 'column-store fixed-size leaf pages': 0, 'column-store fixed-size time windows': 0, 'column-store internal pages': 0, 'column-store variable-size RLE encoded values': 0, 'column-store variable-size deleted values': 0, 'column-store variable-size leaf pages': 0, 'fixed-record size': 0, 'maximum internal page size': 16384, 'maximum leaf page key size': 1474, 'maximum leaf page size': 16384, 'maximum leaf page value size': 7372, 'maximum tree depth': 0, 'number of key/value pairs': 0, 'overflow pages': 0, 'row-store empty values': 0, 'row-store internal pages': 0, 'row-store leaf pages': 0}, 'cache': {'bytes currently in the cache': 7144, 'bytes dirty in the cache cumulative': 0, 'bytes read into cache': 966658, 'bytes written from cache': 0, 'checkpoint blocked page eviction': 0, 'checkpoint of history store file blocked non-history store page eviction': 0, 'data source pages selected for eviction unable to be evicted': 0, 'eviction gave up due to detecting a disk value without a timestamp behind the last update on the chain': 0, 'eviction gave up due to detecting a tombstone without a timestamp ahead of the selected on disk update': 0, 'eviction gave up due to detecting a tombstone without a timestamp ahead of the selected on disk update after validating the update chain': 0, 'eviction gave up due to detecting update chain entries without timestamps after the selected on disk update': 0, 'eviction gave up due to needing to remove a record from the history store but checkpoint is running': 0, 'eviction walk passes of a file': 0, 'eviction walk target pages histogram - 0-9': 0, 'eviction walk target pages histogram - 10-31': 0, 'eviction walk target pages histogram - 128 and higher': 0, 'eviction walk target pages histogram - 32-63': 0, 'eviction walk target pages histogram - 64-128': 0, 'eviction walk target pages reduced due to history store cache pressure': 0, 'eviction walks abandoned': 0, 'eviction walks gave up because they restarted their walk twice': 0, 'eviction walks gave up because they saw too many pages and found no candidates': 0, 'eviction walks gave up because they saw too many pages and found too few candidates': 0, 'eviction walks random search fails to locate a page, results in a null position': 0, 'eviction walks reached end of tree': 0, 'eviction walks restarted': 0, 'eviction walks started from root of tree': 0, 'eviction walks started from saved location in tree': 0, 'hazard pointer blocked page eviction': 0, 'history store table insert calls': 0, 'history store table insert calls that returned restart': 0, 'history store table reads': 0, 'history store table reads missed': 0, 'history store table reads requiring squashed modifies': 0, 'history store table resolved updates without timestamps that lose their durable timestamp': 0, 'history store table truncation by rollback to stable to remove an unstable update': 0, 'history store table truncation by rollback to stable to remove an update': 0, 'history store table truncation to remove all the keys of a btree': 0, 'history store table truncation to remove an update': 0, 'history store table truncation to remove range of updates due to an update without a timestamp on data page': 0, 'history store table truncation to remove range of updates due to key being removed from the data page during reconciliation': 0, 'history store table truncations that would have happened in non-dryrun mode': 0, 'history store table truncations to remove an unstable update that would have happened in non-dryrun mode': 0, 'history store table truncations to remove an update that would have happened in non-dryrun mode': 0, 'history store table updates without timestamps fixed up by reinserting with the fixed timestamp': 0, 'history store table writes requiring squashed modifies': 0, 'in-memory page passed criteria to be split': 0, 'in-memory page splits': 0, 'internal page split blocked its eviction': 0, 'internal pages evicted': 0, 'internal pages split during eviction': 0, 'leaf pages split during eviction': 0, 'locate a random in-mem ref by examining all entries on the root page': 0, 'modified pages evicted': 0, 'overflow keys on a multiblock row-store page blocked its eviction': 0, 'overflow pages read into cache': 0, 'page split during eviction deepened the tree': 0, 'page written requiring history store records': 0, 'pages read into cache': 67, 'pages read into cache after truncate': 0, 'pages read into cache after truncate in prepare state': 0, 'pages requested from the cache': 0, 'pages seen by eviction walk': 0, 'pages written from cache': 0, 'pages written requiring in-memory restoration': 0, 'recent modification of a page blocked its eviction': 0, 'reverse splits performed': 0, 'reverse splits skipped because of VLCS namespace gap restrictions': 0, 'the number of times full update inserted to history store': 0, 'the number of times reverse modify inserted to history store': 0, 'tracked dirty bytes in the cache': 0, 'uncommitted truncate blocked page eviction': 0, 'unmodified pages evicted': 0}, 'cache_walk': {'Average difference between current eviction generation when the page was last considered': 0, 'Average on-disk page image size seen': 0, 'Average time in cache for pages that have been visited by the eviction server': 0, 'Average time in cache for pages that have not been visited by the eviction server': 0, 'Clean pages currently in cache': 0, 'Current eviction generation': 0, 'Dirty pages currently in cache': 0, 'Entries in the root page': 0, 'Internal pages currently in cache': 0, 'Leaf pages currently in cache': 0, 'Maximum difference between current eviction generation when the page was last considered': 0, 'Maximum page size seen': 0, 'Minimum on-disk page image size seen': 0, 'Number of pages never visited by eviction server': 0, 'On-disk page image sizes smaller than a single allocation unit': 0, 'Pages created in memory and never written': 0, 'Pages currently queued for eviction': 0, 'Pages that could not be queued for eviction': 0, 'Refs skipped during cache traversal': 0, 'Size of the root page': 0, 'Total number of pages currently in cache': 0}, 'checkpoint-cleanup': {'pages added for eviction': 0, 'pages removed': 0, 'pages skipped during tree walk': 0, 'pages visited': 0}, 'compression': {'compressed page maximum internal page size prior to compression': 16384, 'compressed page maximum leaf page size prior to compression ': 16384, 'compressed pages read': 0, 'compressed pages written': 0, 'number of blocks with compress ratio greater than 64': 0, 'number of blocks with compress ratio smaller than 16': 0, 'number of blocks with compress ratio smaller than 2': 0, 'number of blocks with compress ratio smaller than 32': 0, 'number of blocks with compress ratio smaller than 4': 0, 'number of blocks with compress ratio smaller than 64': 0, 'number of blocks with compress ratio smaller than 8': 0, 'page written failed to compress': 0, 'page written was too small to compress': 0}, 'cursor': {'Total number of deleted pages skipped during tree walk': 0, 'Total number of entries skipped by cursor next calls': 0, 'Total number of entries skipped by cursor prev calls': 0, 'Total number of entries skipped to position the history store cursor': 0, 'Total number of in-memory deleted pages skipped during tree walk': 0, 'Total number of on-disk deleted pages skipped during tree walk': 0, 'Total number of times a search near has exited due to prefix config': 0, 'Total number of times cursor fails to temporarily release pinned page to encourage eviction of hot or large page': 0, 'Total number of times cursor temporarily releases pinned page to encourage eviction of hot or large page': 0, 'bulk loaded cursor insert calls': 0, 'cache cursors reuse count': 0, 'close calls that result in cache': 0, 'create calls': 0, 'cursor bound calls that return an error': 0, 'cursor bounds cleared from reset': 0, 'cursor bounds comparisons performed': 0, 'cursor bounds next called on an unpositioned cursor': 0, 'cursor bounds next early exit': 0, 'cursor bounds prev called on an unpositioned cursor': 0, 'cursor bounds prev early exit': 0, 'cursor bounds search early exit': 0, 'cursor bounds search near call repositioned cursor': 0, 'cursor cache calls that return an error': 0, 'cursor close calls that return an error': 0, 'cursor compare calls that return an error': 0, 'cursor equals calls that return an error': 0, 'cursor get key calls that return an error': 0, 'cursor get value calls that return an error': 0, 'cursor insert calls that return an error': 0, 'cursor insert check calls that return an error': 0, 'cursor largest key calls that return an error': 0, 'cursor modify calls that return an error': 0, 'cursor next calls that return an error': 0, 'cursor next calls that skip due to a globally visible history store tombstone': 0, 'cursor next calls that skip greater than 1 and fewer than 100 entries': 0, 'cursor next calls that skip greater than or equal to 100 entries': 0, 'cursor next random calls that return an error': 0, 'cursor prev calls that return an error': 0, 'cursor prev calls that skip due to a globally visible history store tombstone': 0, 'cursor prev calls that skip greater than or equal to 100 entries': 0, 'cursor prev calls that skip less than 100 entries': 0, 'cursor reconfigure calls that return an error': 0, 'cursor remove calls that return an error': 0, 'cursor reopen calls that return an error': 0, 'cursor reserve calls that return an error': 0, 'cursor reset calls that return an error': 0, 'cursor search calls that return an error': 0, 'cursor search near calls that return an error': 0, 'cursor update calls that return an error': 0, 'insert calls': 0, 'insert key and value bytes': 0, 'modify': 0, 'modify key and value bytes affected': 0, 'modify value bytes modified': 0, 'next calls': 0, 'open cursor count': 0, 'operation restarted': 0, 'prev calls': 0, 'remove calls': 0, 'remove key bytes removed': 0, 'reserve calls': 0, 'reset calls': 0, 'search calls': 0, 'search history store calls': 0, 'search near calls': 0, 'truncate calls': 0, 'update calls': 0, 'update key and value bytes': 0, 'update value size change': 0}, 'reconciliation': {'VLCS pages explicitly reconciled as empty': 0, 'approximate byte size of timestamps in pages written': 0, 'approximate byte size of transaction IDs in pages written': 0, 'dictionary matches': 0, 'fast-path pages deleted': 0, 'internal page key bytes discarded using suffix compression': 0, 'internal page multi-block writes': 0, 'leaf page key bytes discarded using prefix compression': 0, 'leaf page multi-block writes': 0, 'leaf-page overflow keys': 0, 'maximum blocks required for a page': 0, 'overflow values written': 0, 'page reconciliation calls': 0, 'page reconciliation calls for eviction': 0, 'pages deleted': 0, 'pages written including an aggregated newest start durable timestamp ': 0, 'pages written including an aggregated newest stop durable timestamp ': 0, 'pages written including an aggregated newest stop timestamp ': 0, 'pages written including an aggregated newest stop transaction ID': 0, 'pages written including an aggregated newest transaction ID ': 0, 'pages written including an aggregated oldest start timestamp ': 0, 'pages written including an aggregated prepare': 0, 'pages written including at least one prepare': 0, 'pages written including at least one start durable timestamp': 0, 'pages written including at least one start timestamp': 0, 'pages written including at least one start transaction ID': 0, 'pages written including at least one stop durable timestamp': 0, 'pages written including at least one stop timestamp': 0, 'pages written including at least one stop transaction ID': 0, 'records written including a prepare': 0, 'records written including a start durable timestamp': 0, 'records written including a start timestamp': 0, 'records written including a start transaction ID': 0, 'records written including a stop durable timestamp': 0, 'records written including a stop timestamp': 0, 'records written including a stop transaction ID': 0}, 'session': {'object compaction': 0}, 'transaction': {'a reader raced with a prepared transaction commit and skipped an update or updates': 0, 'checkpoint has acquired a snapshot for its transaction': 0, 'number of times overflow removed value is read': 0, 'race to read prepared update retry': 0, 'rollback to stable history store keys that would have been swept in non-dryrun mode': 0, 'rollback to stable history store records with stop timestamps older than newer records': 0, 'rollback to stable inconsistent checkpoint': 0, 'rollback to stable keys removed': 0, 'rollback to stable keys restored': 0, 'rollback to stable keys that would have been removed in non-dryrun mode': 0, 'rollback to stable keys that would have been restored in non-dryrun mode': 0, 'rollback to stable restored tombstones from history store': 0, 'rollback to stable restored updates from history store': 0, 'rollback to stable skipping delete rle': 0, 'rollback to stable skipping stable rle': 0, 'rollback to stable sweeping history store keys': 0, 'rollback to stable tombstones from history store that would have been restored in non-dryrun mode': 0, 'rollback to stable updates from history store that would have been restored in non-dryrun mode': 0, 'rollback to stable updates removed from history store': 0, 'rollback to stable updates that would have been removed from history store in non-dryrun mode': 0, 'transaction checkpoints due to obsolete pages': 0, 'update conflicts': 0}}}, 'indexBuilds': [], 'totalIndexSize': 2101248, 'indexSizes': {'_id_': 2101248}, 'totalSize': 48484352, 'scaleFactor': 1, 'ok': 1.0, '$clusterTime': {'clusterTime': Timestamp(1726486589, 10), 'signature': {'hash': b'\\xa6io\\xa2\\x01\\xb2\\xf7\\xf2TV3\\xba#\\x9a;\\x0c2\\xd0\\x9e\\xd2', 'keyId': 7376309071898476564}}, 'operationTime': Timestamp(1726486589, 10)}\n"
     ]
    }
   ],
   "source": [
    "client = connect()\n",
    "db = client.get_database(os.getenv(\"DB_NAME\"))\n",
    "\n",
    "for c in db.list_collection_names():\n",
    "    print(db.command(\"collstats\", c))\n",
    "\n",
    "client.close()"
   ]
  },
  {
   "cell_type": "code",
   "execution_count": 18,
   "metadata": {},
   "outputs": [
    {
     "name": "stdout",
     "output_type": "stream",
     "text": [
      "visits_strings: avg. storageSize: 1566.4891535516801\n",
      "visits_bits: avg. storageSize: 1392.4831986388772\n",
      "visits: avg. storageSize: 1233.0684814972353\n"
     ]
    }
   ],
   "source": [
    "print(f'visits_strings: avg. storageSize: {58925056/37616}')\n",
    "print(f'visits_bits: avg. storageSize: {52379648/37616}')\n",
    "print(f'visits: avg. storageSize: {46383104/37616}')"
   ]
  },
  {
   "cell_type": "code",
   "execution_count": 25,
   "metadata": {},
   "outputs": [
    {
     "name": "stdout",
     "output_type": "stream",
     "text": [
      "RPU: 0.0030769888\n"
     ]
    }
   ],
   "source": [
    "# Read Processing Units\n",
    "avgObjSize = 3272\n",
    "n_docs = 37616\n",
    "usd_per_rpu = 0.10 / 1000000\n",
    "RPU = n_docs * (avgObjSize / 4000) * usd_per_rpu\n",
    "print(f'RPU: {RPU}')"
   ]
  }
 ],
 "metadata": {
  "kernelspec": {
   "display_name": "venv",
   "language": "python",
   "name": "python3"
  },
  "language_info": {
   "codemirror_mode": {
    "name": "ipython",
    "version": 3
   },
   "file_extension": ".py",
   "mimetype": "text/x-python",
   "name": "python",
   "nbconvert_exporter": "python",
   "pygments_lexer": "ipython3",
   "version": "3.11.7"
  }
 },
 "nbformat": 4,
 "nbformat_minor": 2
}
