{
 "cells": [
  {
   "cell_type": "markdown",
   "metadata": {},
   "source": [
    "# Create PBAC user data\n"
   ]
  },
  {
   "cell_type": "code",
   "execution_count": 2,
   "metadata": {},
   "outputs": [
    {
     "ename": "ModuleNotFoundError",
     "evalue": "No module named 'faker'",
     "output_type": "error",
     "traceback": [
      "\u001b[0;31m---------------------------------------------------------------------------\u001b[0m",
      "\u001b[0;31mModuleNotFoundError\u001b[0m                       Traceback (most recent call last)",
      "Cell \u001b[0;32mIn[2], line 1\u001b[0m\n\u001b[0;32m----> 1\u001b[0m \u001b[39mfrom\u001b[39;00m \u001b[39mfaker\u001b[39;00m \u001b[39mimport\u001b[39;00m Faker\n\u001b[1;32m      2\u001b[0m \u001b[39mimport\u001b[39;00m \u001b[39mcsv\u001b[39;00m\n\u001b[1;32m      4\u001b[0m \u001b[39m# Initialize Faker to generate fake data\u001b[39;00m\n",
      "\u001b[0;31mModuleNotFoundError\u001b[0m: No module named 'faker'"
     ]
    }
   ],
   "source": [
    "from faker import Faker\n",
    "import csv\n",
    "\n",
    "# Initialize Faker to generate fake data\n",
    "fake = Faker()\n",
    "\n",
    "# Define the number of records you want to generate\n",
    "num_records = 1000\n",
    "\n",
    "# Specify the output CSV file name\n",
    "output_file = 'fake_pii_dataset.csv'\n",
    "\n",
    "# Define the PII fields you want to include in your dataset\n",
    "fields = [\n",
    "    'name', 'address', 'phone_number', 'email', 'date_of_birth',\n",
    "    'ssn', 'job', 'company', 'license_plate', 'passport_number'\n",
    "]\n",
    "\n",
    "# Open the output CSV file for writing\n",
    "with open(output_file, mode='w', newline='') as file:\n",
    "    writer = csv.DictWriter(file, fieldnames=fields)\n",
    "    writer.writeheader()\n",
    "    \n",
    "    # Generate and write the fake data records\n",
    "    for _ in range(num_records):\n",
    "        writer.writerow({\n",
    "            'name': fake.name(),\n",
    "            'address': fake.address().replace('\\n', ', '),\n",
    "            'phone_number': fake.phone_number(),\n",
    "            'email': fake.email(),\n",
    "            'date_of_birth': fake.date_of_birth(),\n",
    "            'ssn': fake.ssn(),\n",
    "            'job': fake.job(),\n",
    "            'company': fake.company(),\n",
    "            'license_plate': fake.license_plate(),\n",
    "            'passport_number': fake.bothify(text=\"??#######\", letters=\"ABCDEFGHIJKLMNOPQRSTUVWXYZ\")\n",
    "        })\n",
    "\n",
    "# Print the path to the generated CSV file\n",
    "print(f\"Dataset generated: {output_file}\")"
   ]
  }
 ],
 "metadata": {
  "kernelspec": {
   "display_name": "Python 3",
   "language": "python",
   "name": "python3"
  },
  "language_info": {
   "codemirror_mode": {
    "name": "ipython",
    "version": 3
   },
   "file_extension": ".py",
   "mimetype": "text/x-python",
   "name": "python",
   "nbconvert_exporter": "python",
   "pygments_lexer": "ipython3",
   "version": "3.8.12"
  },
  "orig_nbformat": 4
 },
 "nbformat": 4,
 "nbformat_minor": 2
}
